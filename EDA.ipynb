{
 "cells": [
  {
   "cell_type": "code",
   "execution_count": 30,
   "id": "90aa7def-6fd6-4316-b0d5-24e88f3a9107",
   "metadata": {},
   "outputs": [],
   "source": [
    "import pandas as pd\n",
    "import matplotlib.pyplot as plt\n",
    "import seaborn as sns\n",
    "import numpy as np\n",
    "import re\n",
    "\n",
    "pd.set_option('display.max_columns', None)\n",
    "pd.set_option('display.max_rows', None)"
   ]
  },
  {
   "cell_type": "code",
   "execution_count": 31,
   "id": "a2c958f5-9ef3-4dbe-a490-07628954596f",
   "metadata": {},
   "outputs": [
    {
     "data": {
      "text/html": [
       "<div>\n",
       "<style scoped>\n",
       "    .dataframe tbody tr th:only-of-type {\n",
       "        vertical-align: middle;\n",
       "    }\n",
       "\n",
       "    .dataframe tbody tr th {\n",
       "        vertical-align: top;\n",
       "    }\n",
       "\n",
       "    .dataframe thead th {\n",
       "        text-align: right;\n",
       "    }\n",
       "</style>\n",
       "<table border=\"1\" class=\"dataframe\">\n",
       "  <thead>\n",
       "    <tr style=\"text-align: right;\">\n",
       "      <th></th>\n",
       "      <th>year</th>\n",
       "      <th>date</th>\n",
       "      <th>month</th>\n",
       "      <th>air_temp_f</th>\n",
       "      <th>water_temp_f</th>\n",
       "      <th>wind_speed_mph</th>\n",
       "      <th>wind_dir</th>\n",
       "      <th>weather</th>\n",
       "      <th>location</th>\n",
       "      <th>general_loc</th>\n",
       "      <th>time_caught</th>\n",
       "      <th>hour_caught</th>\n",
       "      <th>fish_type</th>\n",
       "      <th>fish_length_in</th>\n",
       "      <th>water_depth_ft</th>\n",
       "      <th>skunked</th>\n",
       "      <th>lines_in</th>\n",
       "      <th>lines_out</th>\n",
       "      <th>duration_min</th>\n",
       "      <th>time_caught_bucket</th>\n",
       "    </tr>\n",
       "  </thead>\n",
       "  <tbody>\n",
       "    <tr>\n",
       "      <th>0</th>\n",
       "      <td>2015</td>\n",
       "      <td>2015-08-27</td>\n",
       "      <td>8</td>\n",
       "      <td>65.0</td>\n",
       "      <td>76.3</td>\n",
       "      <td>8</td>\n",
       "      <td>nw</td>\n",
       "      <td>sunny</td>\n",
       "      <td>north of lockes</td>\n",
       "      <td>lockes</td>\n",
       "      <td>6:20</td>\n",
       "      <td>6</td>\n",
       "      <td>salmon</td>\n",
       "      <td>18.0</td>\n",
       "      <td>20.0</td>\n",
       "      <td>False</td>\n",
       "      <td>6:20</td>\n",
       "      <td>9:00</td>\n",
       "      <td>160.0</td>\n",
       "      <td>[5, 7)</td>\n",
       "    </tr>\n",
       "    <tr>\n",
       "      <th>1</th>\n",
       "      <td>2015</td>\n",
       "      <td>2015-08-27</td>\n",
       "      <td>8</td>\n",
       "      <td>65.0</td>\n",
       "      <td>76.3</td>\n",
       "      <td>8</td>\n",
       "      <td>nw</td>\n",
       "      <td>sunny</td>\n",
       "      <td>north of lockes</td>\n",
       "      <td>lockes</td>\n",
       "      <td>7:00</td>\n",
       "      <td>7</td>\n",
       "      <td>rainbow</td>\n",
       "      <td>16.0</td>\n",
       "      <td>20.0</td>\n",
       "      <td>False</td>\n",
       "      <td>6:20</td>\n",
       "      <td>9:00</td>\n",
       "      <td>160.0</td>\n",
       "      <td>[7, 9)</td>\n",
       "    </tr>\n",
       "    <tr>\n",
       "      <th>2</th>\n",
       "      <td>2015</td>\n",
       "      <td>2015-08-27</td>\n",
       "      <td>8</td>\n",
       "      <td>65.0</td>\n",
       "      <td>76.3</td>\n",
       "      <td>8</td>\n",
       "      <td>nw</td>\n",
       "      <td>sunny</td>\n",
       "      <td>north of lockes</td>\n",
       "      <td>lockes</td>\n",
       "      <td>7:15</td>\n",
       "      <td>7</td>\n",
       "      <td>smallmouth</td>\n",
       "      <td>12.8</td>\n",
       "      <td>20.0</td>\n",
       "      <td>False</td>\n",
       "      <td>6:20</td>\n",
       "      <td>9:00</td>\n",
       "      <td>160.0</td>\n",
       "      <td>[7, 9)</td>\n",
       "    </tr>\n",
       "    <tr>\n",
       "      <th>3</th>\n",
       "      <td>2015</td>\n",
       "      <td>2015-08-27</td>\n",
       "      <td>8</td>\n",
       "      <td>65.0</td>\n",
       "      <td>76.3</td>\n",
       "      <td>8</td>\n",
       "      <td>nw</td>\n",
       "      <td>sunny</td>\n",
       "      <td>north of lockes</td>\n",
       "      <td>lockes</td>\n",
       "      <td>8:40</td>\n",
       "      <td>8</td>\n",
       "      <td>salmon</td>\n",
       "      <td>10.0</td>\n",
       "      <td>37.0</td>\n",
       "      <td>False</td>\n",
       "      <td>6:20</td>\n",
       "      <td>9:00</td>\n",
       "      <td>160.0</td>\n",
       "      <td>[7, 9)</td>\n",
       "    </tr>\n",
       "    <tr>\n",
       "      <th>4</th>\n",
       "      <td>2015</td>\n",
       "      <td>2015-08-28</td>\n",
       "      <td>8</td>\n",
       "      <td>65.0</td>\n",
       "      <td>76.3</td>\n",
       "      <td>8</td>\n",
       "      <td>nw</td>\n",
       "      <td>sunny</td>\n",
       "      <td>north of diamond</td>\n",
       "      <td>diamond</td>\n",
       "      <td>7:45</td>\n",
       "      <td>7</td>\n",
       "      <td>rainbow</td>\n",
       "      <td>16.0</td>\n",
       "      <td>43.0</td>\n",
       "      <td>False</td>\n",
       "      <td>7:15</td>\n",
       "      <td>10:30</td>\n",
       "      <td>195.0</td>\n",
       "      <td>[7, 9)</td>\n",
       "    </tr>\n",
       "  </tbody>\n",
       "</table>\n",
       "</div>"
      ],
      "text/plain": [
       "   year        date  month  air_temp_f  water_temp_f  wind_speed_mph wind_dir  \\\n",
       "0  2015  2015-08-27      8        65.0          76.3               8       nw   \n",
       "1  2015  2015-08-27      8        65.0          76.3               8       nw   \n",
       "2  2015  2015-08-27      8        65.0          76.3               8       nw   \n",
       "3  2015  2015-08-27      8        65.0          76.3               8       nw   \n",
       "4  2015  2015-08-28      8        65.0          76.3               8       nw   \n",
       "\n",
       "  weather          location general_loc time_caught  hour_caught   fish_type  \\\n",
       "0   sunny   north of lockes      lockes        6:20            6      salmon   \n",
       "1   sunny   north of lockes      lockes        7:00            7     rainbow   \n",
       "2   sunny   north of lockes      lockes        7:15            7  smallmouth   \n",
       "3   sunny   north of lockes      lockes        8:40            8      salmon   \n",
       "4   sunny  north of diamond     diamond        7:45            7     rainbow   \n",
       "\n",
       "  fish_length_in water_depth_ft  skunked lines_in lines_out  duration_min  \\\n",
       "0           18.0           20.0    False     6:20      9:00         160.0   \n",
       "1           16.0           20.0    False     6:20      9:00         160.0   \n",
       "2           12.8           20.0    False     6:20      9:00         160.0   \n",
       "3           10.0           37.0    False     6:20      9:00         160.0   \n",
       "4           16.0           43.0    False     7:15     10:30         195.0   \n",
       "\n",
       "  time_caught_bucket  \n",
       "0             [5, 7)  \n",
       "1             [7, 9)  \n",
       "2             [7, 9)  \n",
       "3             [7, 9)  \n",
       "4             [7, 9)  "
      ]
     },
     "execution_count": 31,
     "metadata": {},
     "output_type": "execute_result"
    }
   ],
   "source": [
    "df = pd.read_csv('cleaned.csv')\n",
    "df.head()"
   ]
  },
  {
   "cell_type": "code",
   "execution_count": 32,
   "id": "f12c73d8-2003-46f1-b4f1-9be6a7fae780",
   "metadata": {},
   "outputs": [],
   "source": [
    "df_caught = df.loc[df['fish_type'] != 'no_fish_caught']"
   ]
  },
  {
   "cell_type": "code",
   "execution_count": 44,
   "id": "ecaad661-69f6-4115-bcd7-c61280ad8c37",
   "metadata": {},
   "outputs": [
    {
     "name": "stderr",
     "output_type": "stream",
     "text": [
      "/var/folders/qp/clfzg_bn2wlgtrx99d36qsxw0000gn/T/ipykernel_10263/1456835098.py:1: SettingWithCopyWarning: \n",
      "A value is trying to be set on a copy of a slice from a DataFrame.\n",
      "Try using .loc[row_indexer,col_indexer] = value instead\n",
      "\n",
      "See the caveats in the documentation: https://pandas.pydata.org/pandas-docs/stable/user_guide/indexing.html#returning-a-view-versus-a-copy\n",
      "  df_caught['fish_length_in'] = df_caught['fish_length_in'].astype(float)\n"
     ]
    }
   ],
   "source": [
    "df_caught['fish_length_in'] = df_caught['fish_length_in'].astype(float)"
   ]
  },
  {
   "cell_type": "code",
   "execution_count": 46,
   "id": "09005c68-9aea-40aa-9285-b4cba4f47ab4",
   "metadata": {},
   "outputs": [
    {
     "data": {
      "text/plain": [
       "year                   object\n",
       "date                   object\n",
       "month                   int64\n",
       "air_temp_f            float64\n",
       "water_temp_f          float64\n",
       "wind_speed_mph          int64\n",
       "wind_dir               object\n",
       "weather                object\n",
       "location               object\n",
       "general_loc            object\n",
       "time_caught            object\n",
       "hour_caught             int64\n",
       "fish_type              object\n",
       "fish_length_in        float64\n",
       "water_depth_ft         object\n",
       "skunked                  bool\n",
       "lines_in               object\n",
       "lines_out              object\n",
       "duration_min          float64\n",
       "time_caught_bucket     object\n",
       "dtype: object"
      ]
     },
     "execution_count": 46,
     "metadata": {},
     "output_type": "execute_result"
    }
   ],
   "source": [
    "df_caught.dtypes"
   ]
  },
  {
   "cell_type": "code",
   "execution_count": 48,
   "id": "5d37e7b3-5ea0-4181-90fd-968c886af318",
   "metadata": {},
   "outputs": [
    {
     "data": {
      "image/png": "[encoded data removed]",
      "text/plain": [
       "<Figure size 432x288 with 1 Axes>"
      ]
     },
     "metadata": {
      "needs_background": "light"
     },
     "output_type": "display_data"
    }
   ],
   "source": [
    "df_caught.hist('fish_length_in');"
   ]
  },
  {
   "cell_type": "code",
   "execution_count": 49,
   "id": "0647fed6-2e4f-486d-a06e-5d5d1bfcfd82",
   "metadata": {},
   "outputs": [
    {
     "data": {
      "image/png": "[encoded data removed]",
      "text/plain": [
       "<Figure size 432x288 with 1 Axes>"
      ]
     },
     "metadata": {
      "needs_background": "light"
     },
     "output_type": "display_data"
    }
   ],
   "source": [
    "df.hist('wind_speed_mph');"
   ]
  },
  {
   "cell_type": "code",
   "execution_count": 50,
   "id": "371f8a29-2484-44f6-87a2-306322417faf",
   "metadata": {},
   "outputs": [
    {
     "data": {
      "image/png": "[encoded data removed]",
      "text/plain": [
       "<Figure size 432x288 with 1 Axes>"
      ]
     },
     "metadata": {
      "needs_background": "light"
     },
     "output_type": "display_data"
    }
   ],
   "source": [
    "df.hist('air_temp_f');"
   ]
  },
  {
   "cell_type": "code",
   "execution_count": 51,
   "id": "b7e5853f-2699-4244-ae6a-0af2e7c36f26",
   "metadata": {},
   "outputs": [
    {
     "data": {
      "image/png": "[encoded data removed]",
      "text/plain": [
       "<Figure size 432x288 with 1 Axes>"
      ]
     },
     "metadata": {
      "needs_background": "light"
     },
     "output_type": "display_data"
    }
   ],
   "source": [
    "df.hist('water_temp_f');"
   ]
  },
  {
   "cell_type": "code",
   "execution_count": 57,
   "id": "fab29f32-03d0-4488-8bf1-4f75e0ce70b8",
   "metadata": {},
   "outputs": [
    {
     "data": {
      "image/png": "[encoded data removed]",
      "text/plain": [
       "<Figure size 432x288 with 1 Axes>"
      ]
     },
     "metadata": {
      "needs_background": "light"
     },
     "output_type": "display_data"
    }
   ],
   "source": [
    "df.hist('duration_min');"
   ]
  },
  {
   "cell_type": "code",
   "execution_count": 56,
   "id": "c99d5f30-7036-49f7-a841-aa3e4422f562",
   "metadata": {},
   "outputs": [
    {
     "data": {
      "image/png": "[encoded data removed]",
      "text/plain": [
       "<Figure size 432x288 with 1 Axes>"
      ]
     },
     "metadata": {
      "needs_background": "light"
     },
     "output_type": "display_data"
    }
   ],
   "source": [
    "df_caught.hist('duration_min');"
   ]
  },
  {
   "cell_type": "code",
   "execution_count": 55,
   "id": "6ba8a046-ee34-413a-9afa-0c0fe7f8b1e6",
   "metadata": {},
   "outputs": [
    {
     "data": {
      "image/png": "[encoded data removed]",
      "text/plain": [
       "<Figure size 432x288 with 1 Axes>"
      ]
     },
     "metadata": {
      "needs_background": "light"
     },
     "output_type": "display_data"
    }
   ],
   "source": [
    "df_caught.boxplot();"
   ]
  },
  {
   "cell_type": "code",
   "execution_count": 89,
   "id": "164cdb63-d3ca-44ac-85d7-66542a8e3747",
   "metadata": {},
   "outputs": [
    {
     "data": {
      "text/plain": [
       "general_loc\n",
       "diamond            123\n",
       "welch              121\n",
       "lockes              63\n",
       "harilla bay         36\n",
       "sandy               19\n",
       "witches             18\n",
       "saunders bay        17\n",
       "little bear bay     13\n",
       "alton bay           13\n",
       "governors            7\n",
       "rattlesnake          4\n",
       "timber               3\n",
       "wolfboro bay         3\n",
       "varney               2\n",
       "varney point         2\n",
       "weirs marina         2\n",
       "carr point           2\n",
       "birch                2\n",
       "spindle point        1\n",
       "long island          1\n",
       "tip witches          1\n",
       "6 mile               1\n",
       "Name: fish_type, dtype: int64"
      ]
     },
     "execution_count": 89,
     "metadata": {},
     "output_type": "execute_result"
    }
   ],
   "source": [
    "df.groupby(df['general_loc'])['fish_type'].count().sort_values(ascending=False)"
   ]
  },
  {
   "cell_type": "code",
   "execution_count": 90,
   "id": "f82d064f-3ef7-4097-aab8-8399658aeaa0",
   "metadata": {},
   "outputs": [
    {
     "data": {
      "text/plain": [
       "general_loc\n",
       "diamond            110\n",
       "welch               97\n",
       "lockes              54\n",
       "harilla bay         31\n",
       "sandy               18\n",
       "witches             16\n",
       "saunders bay        13\n",
       "alton bay           10\n",
       "little bear bay     10\n",
       "governors            5\n",
       "rattlesnake          3\n",
       "wolfboro bay         3\n",
       "birch                2\n",
       "timber               2\n",
       "varney               2\n",
       "weirs marina         2\n",
       "carr point           2\n",
       "long island          1\n",
       "tip witches          1\n",
       "varney point         1\n",
       "Name: fish_type, dtype: int64"
      ]
     },
     "execution_count": 90,
     "metadata": {},
     "output_type": "execute_result"
    }
   ],
   "source": [
    "df_caught.groupby(df_caught['general_loc'])['fish_type'].count().sort_values(ascending=False)"
   ]
  },
  {
   "cell_type": "code",
   "execution_count": null,
   "id": "ba346376-a782-4743-aefb-d3f43d020474",
   "metadata": {},
   "outputs": [],
   "source": []
  }
 ],
 "metadata": {
  "kernelspec": {
   "display_name": "Python 3 (ipykernel)",
   "language": "python",
   "name": "python3"
  },
  "language_info": {
   "codemirror_mode": {
    "name": "ipython",
    "version": 3
   },
   "file_extension": ".py",
   "mimetype": "text/x-python",
   "name": "python",
   "nbconvert_exporter": "python",
   "pygments_lexer": "ipython3",
   "version": "3.9.7"
  }
 },
 "nbformat": 4,
 "nbformat_minor": 5
}
