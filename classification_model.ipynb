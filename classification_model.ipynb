{
 "cells": [
  {
   "cell_type": "code",
   "execution_count": 7,
   "id": "cfaba7ba-1ae8-4d56-a9a3-76de56d17141",
   "metadata": {},
   "outputs": [],
   "source": [
    "import pandas as pd\n",
    "import numpy as np\n",
    "from sklearn.metrics import roc_curve, auc\n",
    "import matplotlib.pyplot as plt\n",
    "from sklearn.linear_model import LogisticRegression\n",
    "from sklearn.model_selection import train_test_split, GridSearchCV\n",
    "from sklearn.pipeline import make_pipeline\n",
    "from sklearn.preprocessing import StandardScaler\n",
    "from sklearn.model_selection import cross_val_score\n",
    "import sklearn.metrics as metrics\n",
    "from sklearn.metrics import plot_confusion_matrix\n",
    "from sklearn.metrics import confusion_matrix, f1_score\n",
    "from sklearn.ensemble import RandomForestClassifier\n",
    "from sklearn.metrics import classification_report\n",
    "from sklearn.metrics import accuracy_score\n",
    "from sklearn.ensemble import BaggingClassifier, StackingClassifier\n",
    "from sklearn.pipeline import make_pipeline\n",
    "\n",
    "import pandas as pd\n",
    "import numpy as np\n",
    "import seaborn as sns\n",
    "import matplotlib.pyplot as plt\n",
    "from sklearn.preprocessing import StandardScaler, PolynomialFeatures\n",
    "from sklearn.linear_model import LogisticRegression, RidgeClassifier\n",
    "from sklearn.model_selection import train_test_split, cross_val_score, GridSearchCV, RandomizedSearchCV\n",
    "from sklearn.metrics import confusion_matrix, plot_confusion_matrix, accuracy_score, recall_score, precision_score, f1_score\n",
    "from sklearn.ensemble import RandomForestClassifier\n",
    "from sklearn.neighbors import KNeighborsClassifier\n",
    "from sklearn.linear_model import LinearRegression, LassoCV\n",
    "from sklearn.ensemble import BaggingClassifier, StackingClassifier\n",
    "from sklearn.pipeline import make_pipeline\n",
    "\n",
    "from sklearn.decomposition import PCA\n",
    "from sklearn.ensemble import GradientBoostingClassifier, AdaBoostClassifier, RandomForestClassifier, VotingClassifier\n",
    "\n",
    "\n",
    "pd.options.display.max_columns = 100"
   ]
  },
  {
   "cell_type": "code",
   "execution_count": 8,
   "id": "f5cbb37b-2fc7-4a22-8659-f61f5bcd0a30",
   "metadata": {},
   "outputs": [
    {
     "data": {
      "text/html": [
       "<div>\n",
       "<style scoped>\n",
       "    .dataframe tbody tr th:only-of-type {\n",
       "        vertical-align: middle;\n",
       "    }\n",
       "\n",
       "    .dataframe tbody tr th {\n",
       "        vertical-align: top;\n",
       "    }\n",
       "\n",
       "    .dataframe thead th {\n",
       "        text-align: right;\n",
       "    }\n",
       "</style>\n",
       "<table border=\"1\" class=\"dataframe\">\n",
       "  <thead>\n",
       "    <tr style=\"text-align: right;\">\n",
       "      <th></th>\n",
       "      <th>Unnamed: 0</th>\n",
       "      <th>year</th>\n",
       "      <th>date</th>\n",
       "      <th>air_temp_f</th>\n",
       "      <th>water_temp_f</th>\n",
       "      <th>wind_speed_mph</th>\n",
       "      <th>wind_dir</th>\n",
       "      <th>weather</th>\n",
       "      <th>location</th>\n",
       "      <th>time_caught</th>\n",
       "      <th>fish_type</th>\n",
       "      <th>fish_length_in</th>\n",
       "      <th>water_depth_ft</th>\n",
       "      <th>skunked</th>\n",
       "      <th>lines_in</th>\n",
       "      <th>lines_out</th>\n",
       "      <th>general_loc</th>\n",
       "      <th>duration_min</th>\n",
       "      <th>month</th>\n",
       "      <th>hour</th>\n",
       "      <th>time_caught_bucket</th>\n",
       "    </tr>\n",
       "  </thead>\n",
       "  <tbody>\n",
       "    <tr>\n",
       "      <th>0</th>\n",
       "      <td>0</td>\n",
       "      <td>2015</td>\n",
       "      <td>2015-08-27</td>\n",
       "      <td>65.0</td>\n",
       "      <td>76.3</td>\n",
       "      <td>8</td>\n",
       "      <td>nw</td>\n",
       "      <td>sunny</td>\n",
       "      <td>north of lockes</td>\n",
       "      <td>6:20</td>\n",
       "      <td>salmon</td>\n",
       "      <td>18.0</td>\n",
       "      <td>20.0</td>\n",
       "      <td>False</td>\n",
       "      <td>6:20</td>\n",
       "      <td>9:00</td>\n",
       "      <td>lockes</td>\n",
       "      <td>160.0</td>\n",
       "      <td>8</td>\n",
       "      <td>6</td>\n",
       "      <td>[5, 7)</td>\n",
       "    </tr>\n",
       "    <tr>\n",
       "      <th>1</th>\n",
       "      <td>1</td>\n",
       "      <td>2015</td>\n",
       "      <td>2015-08-27</td>\n",
       "      <td>65.0</td>\n",
       "      <td>76.3</td>\n",
       "      <td>8</td>\n",
       "      <td>nw</td>\n",
       "      <td>sunny</td>\n",
       "      <td>north of lockes</td>\n",
       "      <td>7:00</td>\n",
       "      <td>rainbow</td>\n",
       "      <td>16.0</td>\n",
       "      <td>20.0</td>\n",
       "      <td>False</td>\n",
       "      <td>6:20</td>\n",
       "      <td>9:00</td>\n",
       "      <td>lockes</td>\n",
       "      <td>160.0</td>\n",
       "      <td>8</td>\n",
       "      <td>7</td>\n",
       "      <td>[7, 9)</td>\n",
       "    </tr>\n",
       "    <tr>\n",
       "      <th>2</th>\n",
       "      <td>2</td>\n",
       "      <td>2015</td>\n",
       "      <td>2015-08-27</td>\n",
       "      <td>65.0</td>\n",
       "      <td>76.3</td>\n",
       "      <td>8</td>\n",
       "      <td>nw</td>\n",
       "      <td>sunny</td>\n",
       "      <td>north of lockes</td>\n",
       "      <td>7:15</td>\n",
       "      <td>smallmouth</td>\n",
       "      <td>12.8</td>\n",
       "      <td>20.0</td>\n",
       "      <td>False</td>\n",
       "      <td>6:20</td>\n",
       "      <td>9:00</td>\n",
       "      <td>lockes</td>\n",
       "      <td>160.0</td>\n",
       "      <td>8</td>\n",
       "      <td>7</td>\n",
       "      <td>[7, 9)</td>\n",
       "    </tr>\n",
       "    <tr>\n",
       "      <th>3</th>\n",
       "      <td>3</td>\n",
       "      <td>2015</td>\n",
       "      <td>2015-08-27</td>\n",
       "      <td>65.0</td>\n",
       "      <td>76.3</td>\n",
       "      <td>8</td>\n",
       "      <td>nw</td>\n",
       "      <td>sunny</td>\n",
       "      <td>north of lockes</td>\n",
       "      <td>8:40</td>\n",
       "      <td>salmon</td>\n",
       "      <td>10.0</td>\n",
       "      <td>37.0</td>\n",
       "      <td>False</td>\n",
       "      <td>6:20</td>\n",
       "      <td>9:00</td>\n",
       "      <td>lockes</td>\n",
       "      <td>160.0</td>\n",
       "      <td>8</td>\n",
       "      <td>8</td>\n",
       "      <td>[7, 9)</td>\n",
       "    </tr>\n",
       "    <tr>\n",
       "      <th>4</th>\n",
       "      <td>4</td>\n",
       "      <td>2015</td>\n",
       "      <td>2015-08-28</td>\n",
       "      <td>65.0</td>\n",
       "      <td>76.3</td>\n",
       "      <td>8</td>\n",
       "      <td>nw</td>\n",
       "      <td>sunny</td>\n",
       "      <td>north of diamond</td>\n",
       "      <td>7:45</td>\n",
       "      <td>rainbow</td>\n",
       "      <td>16.0</td>\n",
       "      <td>43.0</td>\n",
       "      <td>False</td>\n",
       "      <td>7:15</td>\n",
       "      <td>10:30</td>\n",
       "      <td>diamond</td>\n",
       "      <td>195.0</td>\n",
       "      <td>8</td>\n",
       "      <td>7</td>\n",
       "      <td>[7, 9)</td>\n",
       "    </tr>\n",
       "  </tbody>\n",
       "</table>\n",
       "</div>"
      ],
      "text/plain": [
       "   Unnamed: 0  year        date  air_temp_f  water_temp_f  wind_speed_mph  \\\n",
       "0           0  2015  2015-08-27        65.0          76.3               8   \n",
       "1           1  2015  2015-08-27        65.0          76.3               8   \n",
       "2           2  2015  2015-08-27        65.0          76.3               8   \n",
       "3           3  2015  2015-08-27        65.0          76.3               8   \n",
       "4           4  2015  2015-08-28        65.0          76.3               8   \n",
       "\n",
       "  wind_dir weather          location time_caught   fish_type  fish_length_in  \\\n",
       "0       nw   sunny   north of lockes        6:20      salmon            18.0   \n",
       "1       nw   sunny   north of lockes        7:00     rainbow            16.0   \n",
       "2       nw   sunny   north of lockes        7:15  smallmouth            12.8   \n",
       "3       nw   sunny   north of lockes        8:40      salmon            10.0   \n",
       "4       nw   sunny  north of diamond        7:45     rainbow            16.0   \n",
       "\n",
       "   water_depth_ft  skunked lines_in lines_out general_loc  duration_min  \\\n",
       "0            20.0    False     6:20      9:00      lockes         160.0   \n",
       "1            20.0    False     6:20      9:00      lockes         160.0   \n",
       "2            20.0    False     6:20      9:00      lockes         160.0   \n",
       "3            37.0    False     6:20      9:00      lockes         160.0   \n",
       "4            43.0    False     7:15     10:30     diamond         195.0   \n",
       "\n",
       "   month  hour time_caught_bucket  \n",
       "0      8     6             [5, 7)  \n",
       "1      8     7             [7, 9)  \n",
       "2      8     7             [7, 9)  \n",
       "3      8     8             [7, 9)  \n",
       "4      8     7             [7, 9)  "
      ]
     },
     "execution_count": 8,
     "metadata": {},
     "output_type": "execute_result"
    }
   ],
   "source": [
    "df = pd.read_csv('./model_data/winni_reports.csv')\n",
    "df.head()"
   ]
  },
  {
   "cell_type": "code",
   "execution_count": 9,
   "id": "bb55ba1f-c871-4706-9411-9b77743d5e9e",
   "metadata": {},
   "outputs": [
    {
     "data": {
      "text/plain": [
       "Unnamed: 0             0\n",
       "year                   0\n",
       "date                   0\n",
       "air_temp_f             0\n",
       "water_temp_f           0\n",
       "wind_speed_mph         0\n",
       "wind_dir               0\n",
       "weather                0\n",
       "location               0\n",
       "time_caught            0\n",
       "fish_type              0\n",
       "fish_length_in         0\n",
       "water_depth_ft         0\n",
       "skunked                0\n",
       "lines_in               0\n",
       "lines_out              0\n",
       "general_loc            0\n",
       "duration_min           0\n",
       "month                  0\n",
       "hour                   0\n",
       "time_caught_bucket    73\n",
       "dtype: int64"
      ]
     },
     "execution_count": 9,
     "metadata": {},
     "output_type": "execute_result"
    }
   ],
   "source": [
    "df.isnull().sum()"
   ]
  },
  {
   "cell_type": "code",
   "execution_count": 10,
   "id": "2253a327-8989-4c91-9312-0050a2c5d846",
   "metadata": {},
   "outputs": [],
   "source": [
    "df1 = df.drop(columns=['year', 'time_caught_bucket', 'lines_in', 'lines_out', 'Unnamed: 0', 'location', 'date', 'time_caught', 'fish_length_in', 'fish_type', 'hour', 'water_depth_ft', 'duration_min'])\n"
   ]
  },
  {
   "cell_type": "code",
   "execution_count": 11,
   "id": "17395e54-dc65-4c11-ac85-30cf02292ff1",
   "metadata": {},
   "outputs": [
    {
     "data": {
      "text/plain": [
       "Index(['air_temp_f', 'water_temp_f', 'wind_speed_mph', 'wind_dir', 'weather',\n",
       "       'skunked', 'general_loc', 'month'],\n",
       "      dtype='object')"
      ]
     },
     "execution_count": 11,
     "metadata": {},
     "output_type": "execute_result"
    }
   ],
   "source": [
    "df1.columns"
   ]
  },
  {
   "cell_type": "code",
   "execution_count": 12,
   "id": "7dee68f4-c799-47d2-bcb4-52a95ee0b661",
   "metadata": {},
   "outputs": [],
   "source": [
    "df1 = pd.get_dummies(df1, columns = ['wind_dir', 'weather', 'general_loc'], drop_first = True)"
   ]
  },
  {
   "cell_type": "code",
   "execution_count": 13,
   "id": "ea0b71ca-4d80-4d08-ab98-108e4cb1b504",
   "metadata": {},
   "outputs": [
    {
     "data": {
      "text/html": [
       "<div>\n",
       "<style scoped>\n",
       "    .dataframe tbody tr th:only-of-type {\n",
       "        vertical-align: middle;\n",
       "    }\n",
       "\n",
       "    .dataframe tbody tr th {\n",
       "        vertical-align: top;\n",
       "    }\n",
       "\n",
       "    .dataframe thead th {\n",
       "        text-align: right;\n",
       "    }\n",
       "</style>\n",
       "<table border=\"1\" class=\"dataframe\">\n",
       "  <thead>\n",
       "    <tr style=\"text-align: right;\">\n",
       "      <th></th>\n",
       "      <th>air_temp_f</th>\n",
       "      <th>water_temp_f</th>\n",
       "      <th>wind_speed_mph</th>\n",
       "      <th>skunked</th>\n",
       "      <th>month</th>\n",
       "      <th>wind_dir_ene</th>\n",
       "      <th>wind_dir_n</th>\n",
       "      <th>wind_dir_ne</th>\n",
       "      <th>wind_dir_no_wind</th>\n",
       "      <th>wind_dir_nw</th>\n",
       "      <th>wind_dir_s</th>\n",
       "      <th>wind_dir_se</th>\n",
       "      <th>wind_dir_sw</th>\n",
       "      <th>wind_dir_w</th>\n",
       "      <th>weather_hazy</th>\n",
       "      <th>weather_no_weather_recorded</th>\n",
       "      <th>weather_overcast</th>\n",
       "      <th>weather_raining</th>\n",
       "      <th>weather_sunny</th>\n",
       "      <th>weather_windy</th>\n",
       "      <th>general_loc_alton bay</th>\n",
       "      <th>general_loc_birch</th>\n",
       "      <th>general_loc_carr point</th>\n",
       "      <th>general_loc_diamond</th>\n",
       "      <th>general_loc_governors</th>\n",
       "      <th>general_loc_harilla bay</th>\n",
       "      <th>general_loc_little bear bay</th>\n",
       "      <th>general_loc_lockes</th>\n",
       "      <th>general_loc_long island</th>\n",
       "      <th>general_loc_rattlesnake</th>\n",
       "      <th>general_loc_sandy</th>\n",
       "      <th>general_loc_saunders bay</th>\n",
       "      <th>general_loc_spindle point</th>\n",
       "      <th>general_loc_timber</th>\n",
       "      <th>general_loc_tip witches</th>\n",
       "      <th>general_loc_varney</th>\n",
       "      <th>general_loc_varney point</th>\n",
       "      <th>general_loc_weirs marina</th>\n",
       "      <th>general_loc_welch</th>\n",
       "      <th>general_loc_witches</th>\n",
       "      <th>general_loc_wolfboro bay</th>\n",
       "    </tr>\n",
       "  </thead>\n",
       "  <tbody>\n",
       "    <tr>\n",
       "      <th>0</th>\n",
       "      <td>65.000000</td>\n",
       "      <td>76.3</td>\n",
       "      <td>8</td>\n",
       "      <td>False</td>\n",
       "      <td>8</td>\n",
       "      <td>0</td>\n",
       "      <td>0</td>\n",
       "      <td>0</td>\n",
       "      <td>0</td>\n",
       "      <td>1</td>\n",
       "      <td>0</td>\n",
       "      <td>0</td>\n",
       "      <td>0</td>\n",
       "      <td>0</td>\n",
       "      <td>0</td>\n",
       "      <td>0</td>\n",
       "      <td>0</td>\n",
       "      <td>0</td>\n",
       "      <td>1</td>\n",
       "      <td>0</td>\n",
       "      <td>0</td>\n",
       "      <td>0</td>\n",
       "      <td>0</td>\n",
       "      <td>0</td>\n",
       "      <td>0</td>\n",
       "      <td>0</td>\n",
       "      <td>0</td>\n",
       "      <td>1</td>\n",
       "      <td>0</td>\n",
       "      <td>0</td>\n",
       "      <td>0</td>\n",
       "      <td>0</td>\n",
       "      <td>0</td>\n",
       "      <td>0</td>\n",
       "      <td>0</td>\n",
       "      <td>0</td>\n",
       "      <td>0</td>\n",
       "      <td>0</td>\n",
       "      <td>0</td>\n",
       "      <td>0</td>\n",
       "      <td>0</td>\n",
       "    </tr>\n",
       "    <tr>\n",
       "      <th>1</th>\n",
       "      <td>65.000000</td>\n",
       "      <td>76.3</td>\n",
       "      <td>8</td>\n",
       "      <td>False</td>\n",
       "      <td>8</td>\n",
       "      <td>0</td>\n",
       "      <td>0</td>\n",
       "      <td>0</td>\n",
       "      <td>0</td>\n",
       "      <td>1</td>\n",
       "      <td>0</td>\n",
       "      <td>0</td>\n",
       "      <td>0</td>\n",
       "      <td>0</td>\n",
       "      <td>0</td>\n",
       "      <td>0</td>\n",
       "      <td>0</td>\n",
       "      <td>0</td>\n",
       "      <td>1</td>\n",
       "      <td>0</td>\n",
       "      <td>0</td>\n",
       "      <td>0</td>\n",
       "      <td>0</td>\n",
       "      <td>0</td>\n",
       "      <td>0</td>\n",
       "      <td>0</td>\n",
       "      <td>0</td>\n",
       "      <td>1</td>\n",
       "      <td>0</td>\n",
       "      <td>0</td>\n",
       "      <td>0</td>\n",
       "      <td>0</td>\n",
       "      <td>0</td>\n",
       "      <td>0</td>\n",
       "      <td>0</td>\n",
       "      <td>0</td>\n",
       "      <td>0</td>\n",
       "      <td>0</td>\n",
       "      <td>0</td>\n",
       "      <td>0</td>\n",
       "      <td>0</td>\n",
       "    </tr>\n",
       "    <tr>\n",
       "      <th>2</th>\n",
       "      <td>65.000000</td>\n",
       "      <td>76.3</td>\n",
       "      <td>8</td>\n",
       "      <td>False</td>\n",
       "      <td>8</td>\n",
       "      <td>0</td>\n",
       "      <td>0</td>\n",
       "      <td>0</td>\n",
       "      <td>0</td>\n",
       "      <td>1</td>\n",
       "      <td>0</td>\n",
       "      <td>0</td>\n",
       "      <td>0</td>\n",
       "      <td>0</td>\n",
       "      <td>0</td>\n",
       "      <td>0</td>\n",
       "      <td>0</td>\n",
       "      <td>0</td>\n",
       "      <td>1</td>\n",
       "      <td>0</td>\n",
       "      <td>0</td>\n",
       "      <td>0</td>\n",
       "      <td>0</td>\n",
       "      <td>0</td>\n",
       "      <td>0</td>\n",
       "      <td>0</td>\n",
       "      <td>0</td>\n",
       "      <td>1</td>\n",
       "      <td>0</td>\n",
       "      <td>0</td>\n",
       "      <td>0</td>\n",
       "      <td>0</td>\n",
       "      <td>0</td>\n",
       "      <td>0</td>\n",
       "      <td>0</td>\n",
       "      <td>0</td>\n",
       "      <td>0</td>\n",
       "      <td>0</td>\n",
       "      <td>0</td>\n",
       "      <td>0</td>\n",
       "      <td>0</td>\n",
       "    </tr>\n",
       "    <tr>\n",
       "      <th>3</th>\n",
       "      <td>65.000000</td>\n",
       "      <td>76.3</td>\n",
       "      <td>8</td>\n",
       "      <td>False</td>\n",
       "      <td>8</td>\n",
       "      <td>0</td>\n",
       "      <td>0</td>\n",
       "      <td>0</td>\n",
       "      <td>0</td>\n",
       "      <td>1</td>\n",
       "      <td>0</td>\n",
       "      <td>0</td>\n",
       "      <td>0</td>\n",
       "      <td>0</td>\n",
       "      <td>0</td>\n",
       "      <td>0</td>\n",
       "      <td>0</td>\n",
       "      <td>0</td>\n",
       "      <td>1</td>\n",
       "      <td>0</td>\n",
       "      <td>0</td>\n",
       "      <td>0</td>\n",
       "      <td>0</td>\n",
       "      <td>0</td>\n",
       "      <td>0</td>\n",
       "      <td>0</td>\n",
       "      <td>0</td>\n",
       "      <td>1</td>\n",
       "      <td>0</td>\n",
       "      <td>0</td>\n",
       "      <td>0</td>\n",
       "      <td>0</td>\n",
       "      <td>0</td>\n",
       "      <td>0</td>\n",
       "      <td>0</td>\n",
       "      <td>0</td>\n",
       "      <td>0</td>\n",
       "      <td>0</td>\n",
       "      <td>0</td>\n",
       "      <td>0</td>\n",
       "      <td>0</td>\n",
       "    </tr>\n",
       "    <tr>\n",
       "      <th>4</th>\n",
       "      <td>65.000000</td>\n",
       "      <td>76.3</td>\n",
       "      <td>8</td>\n",
       "      <td>False</td>\n",
       "      <td>8</td>\n",
       "      <td>0</td>\n",
       "      <td>0</td>\n",
       "      <td>0</td>\n",
       "      <td>0</td>\n",
       "      <td>1</td>\n",
       "      <td>0</td>\n",
       "      <td>0</td>\n",
       "      <td>0</td>\n",
       "      <td>0</td>\n",
       "      <td>0</td>\n",
       "      <td>0</td>\n",
       "      <td>0</td>\n",
       "      <td>0</td>\n",
       "      <td>1</td>\n",
       "      <td>0</td>\n",
       "      <td>0</td>\n",
       "      <td>0</td>\n",
       "      <td>0</td>\n",
       "      <td>1</td>\n",
       "      <td>0</td>\n",
       "      <td>0</td>\n",
       "      <td>0</td>\n",
       "      <td>0</td>\n",
       "      <td>0</td>\n",
       "      <td>0</td>\n",
       "      <td>0</td>\n",
       "      <td>0</td>\n",
       "      <td>0</td>\n",
       "      <td>0</td>\n",
       "      <td>0</td>\n",
       "      <td>0</td>\n",
       "      <td>0</td>\n",
       "      <td>0</td>\n",
       "      <td>0</td>\n",
       "      <td>0</td>\n",
       "      <td>0</td>\n",
       "    </tr>\n",
       "    <tr>\n",
       "      <th>...</th>\n",
       "      <td>...</td>\n",
       "      <td>...</td>\n",
       "      <td>...</td>\n",
       "      <td>...</td>\n",
       "      <td>...</td>\n",
       "      <td>...</td>\n",
       "      <td>...</td>\n",
       "      <td>...</td>\n",
       "      <td>...</td>\n",
       "      <td>...</td>\n",
       "      <td>...</td>\n",
       "      <td>...</td>\n",
       "      <td>...</td>\n",
       "      <td>...</td>\n",
       "      <td>...</td>\n",
       "      <td>...</td>\n",
       "      <td>...</td>\n",
       "      <td>...</td>\n",
       "      <td>...</td>\n",
       "      <td>...</td>\n",
       "      <td>...</td>\n",
       "      <td>...</td>\n",
       "      <td>...</td>\n",
       "      <td>...</td>\n",
       "      <td>...</td>\n",
       "      <td>...</td>\n",
       "      <td>...</td>\n",
       "      <td>...</td>\n",
       "      <td>...</td>\n",
       "      <td>...</td>\n",
       "      <td>...</td>\n",
       "      <td>...</td>\n",
       "      <td>...</td>\n",
       "      <td>...</td>\n",
       "      <td>...</td>\n",
       "      <td>...</td>\n",
       "      <td>...</td>\n",
       "      <td>...</td>\n",
       "      <td>...</td>\n",
       "      <td>...</td>\n",
       "      <td>...</td>\n",
       "    </tr>\n",
       "    <tr>\n",
       "      <th>449</th>\n",
       "      <td>52.235294</td>\n",
       "      <td>50.0</td>\n",
       "      <td>0</td>\n",
       "      <td>False</td>\n",
       "      <td>4</td>\n",
       "      <td>0</td>\n",
       "      <td>0</td>\n",
       "      <td>0</td>\n",
       "      <td>1</td>\n",
       "      <td>0</td>\n",
       "      <td>0</td>\n",
       "      <td>0</td>\n",
       "      <td>0</td>\n",
       "      <td>0</td>\n",
       "      <td>0</td>\n",
       "      <td>0</td>\n",
       "      <td>0</td>\n",
       "      <td>0</td>\n",
       "      <td>1</td>\n",
       "      <td>0</td>\n",
       "      <td>0</td>\n",
       "      <td>0</td>\n",
       "      <td>0</td>\n",
       "      <td>0</td>\n",
       "      <td>0</td>\n",
       "      <td>1</td>\n",
       "      <td>0</td>\n",
       "      <td>0</td>\n",
       "      <td>0</td>\n",
       "      <td>0</td>\n",
       "      <td>0</td>\n",
       "      <td>0</td>\n",
       "      <td>0</td>\n",
       "      <td>0</td>\n",
       "      <td>0</td>\n",
       "      <td>0</td>\n",
       "      <td>0</td>\n",
       "      <td>0</td>\n",
       "      <td>0</td>\n",
       "      <td>0</td>\n",
       "      <td>0</td>\n",
       "    </tr>\n",
       "    <tr>\n",
       "      <th>450</th>\n",
       "      <td>52.235294</td>\n",
       "      <td>45.0</td>\n",
       "      <td>7</td>\n",
       "      <td>True</td>\n",
       "      <td>4</td>\n",
       "      <td>0</td>\n",
       "      <td>0</td>\n",
       "      <td>0</td>\n",
       "      <td>0</td>\n",
       "      <td>0</td>\n",
       "      <td>0</td>\n",
       "      <td>0</td>\n",
       "      <td>0</td>\n",
       "      <td>0</td>\n",
       "      <td>0</td>\n",
       "      <td>0</td>\n",
       "      <td>1</td>\n",
       "      <td>0</td>\n",
       "      <td>0</td>\n",
       "      <td>0</td>\n",
       "      <td>0</td>\n",
       "      <td>0</td>\n",
       "      <td>0</td>\n",
       "      <td>0</td>\n",
       "      <td>0</td>\n",
       "      <td>0</td>\n",
       "      <td>0</td>\n",
       "      <td>0</td>\n",
       "      <td>0</td>\n",
       "      <td>0</td>\n",
       "      <td>0</td>\n",
       "      <td>0</td>\n",
       "      <td>1</td>\n",
       "      <td>0</td>\n",
       "      <td>0</td>\n",
       "      <td>0</td>\n",
       "      <td>0</td>\n",
       "      <td>0</td>\n",
       "      <td>0</td>\n",
       "      <td>0</td>\n",
       "      <td>0</td>\n",
       "    </tr>\n",
       "    <tr>\n",
       "      <th>451</th>\n",
       "      <td>52.235294</td>\n",
       "      <td>48.0</td>\n",
       "      <td>10</td>\n",
       "      <td>False</td>\n",
       "      <td>4</td>\n",
       "      <td>0</td>\n",
       "      <td>0</td>\n",
       "      <td>0</td>\n",
       "      <td>0</td>\n",
       "      <td>1</td>\n",
       "      <td>0</td>\n",
       "      <td>0</td>\n",
       "      <td>0</td>\n",
       "      <td>0</td>\n",
       "      <td>0</td>\n",
       "      <td>0</td>\n",
       "      <td>0</td>\n",
       "      <td>0</td>\n",
       "      <td>1</td>\n",
       "      <td>0</td>\n",
       "      <td>0</td>\n",
       "      <td>0</td>\n",
       "      <td>0</td>\n",
       "      <td>0</td>\n",
       "      <td>0</td>\n",
       "      <td>1</td>\n",
       "      <td>0</td>\n",
       "      <td>0</td>\n",
       "      <td>0</td>\n",
       "      <td>0</td>\n",
       "      <td>0</td>\n",
       "      <td>0</td>\n",
       "      <td>0</td>\n",
       "      <td>0</td>\n",
       "      <td>0</td>\n",
       "      <td>0</td>\n",
       "      <td>0</td>\n",
       "      <td>0</td>\n",
       "      <td>0</td>\n",
       "      <td>0</td>\n",
       "      <td>0</td>\n",
       "    </tr>\n",
       "    <tr>\n",
       "      <th>452</th>\n",
       "      <td>68.000000</td>\n",
       "      <td>48.0</td>\n",
       "      <td>0</td>\n",
       "      <td>False</td>\n",
       "      <td>5</td>\n",
       "      <td>0</td>\n",
       "      <td>0</td>\n",
       "      <td>0</td>\n",
       "      <td>1</td>\n",
       "      <td>0</td>\n",
       "      <td>0</td>\n",
       "      <td>0</td>\n",
       "      <td>0</td>\n",
       "      <td>0</td>\n",
       "      <td>0</td>\n",
       "      <td>0</td>\n",
       "      <td>0</td>\n",
       "      <td>0</td>\n",
       "      <td>1</td>\n",
       "      <td>0</td>\n",
       "      <td>0</td>\n",
       "      <td>0</td>\n",
       "      <td>0</td>\n",
       "      <td>0</td>\n",
       "      <td>0</td>\n",
       "      <td>1</td>\n",
       "      <td>0</td>\n",
       "      <td>0</td>\n",
       "      <td>0</td>\n",
       "      <td>0</td>\n",
       "      <td>0</td>\n",
       "      <td>0</td>\n",
       "      <td>0</td>\n",
       "      <td>0</td>\n",
       "      <td>0</td>\n",
       "      <td>0</td>\n",
       "      <td>0</td>\n",
       "      <td>0</td>\n",
       "      <td>0</td>\n",
       "      <td>0</td>\n",
       "      <td>0</td>\n",
       "    </tr>\n",
       "    <tr>\n",
       "      <th>453</th>\n",
       "      <td>51.000000</td>\n",
       "      <td>45.0</td>\n",
       "      <td>3</td>\n",
       "      <td>False</td>\n",
       "      <td>5</td>\n",
       "      <td>0</td>\n",
       "      <td>0</td>\n",
       "      <td>0</td>\n",
       "      <td>0</td>\n",
       "      <td>0</td>\n",
       "      <td>0</td>\n",
       "      <td>0</td>\n",
       "      <td>0</td>\n",
       "      <td>0</td>\n",
       "      <td>0</td>\n",
       "      <td>0</td>\n",
       "      <td>0</td>\n",
       "      <td>0</td>\n",
       "      <td>1</td>\n",
       "      <td>0</td>\n",
       "      <td>0</td>\n",
       "      <td>0</td>\n",
       "      <td>0</td>\n",
       "      <td>0</td>\n",
       "      <td>0</td>\n",
       "      <td>0</td>\n",
       "      <td>0</td>\n",
       "      <td>0</td>\n",
       "      <td>0</td>\n",
       "      <td>0</td>\n",
       "      <td>0</td>\n",
       "      <td>0</td>\n",
       "      <td>0</td>\n",
       "      <td>0</td>\n",
       "      <td>0</td>\n",
       "      <td>0</td>\n",
       "      <td>0</td>\n",
       "      <td>0</td>\n",
       "      <td>1</td>\n",
       "      <td>0</td>\n",
       "      <td>0</td>\n",
       "    </tr>\n",
       "  </tbody>\n",
       "</table>\n",
       "<p>454 rows × 41 columns</p>\n",
       "</div>"
      ],
      "text/plain": [
       "     air_temp_f  water_temp_f  wind_speed_mph  skunked  month  wind_dir_ene  \\\n",
       "0     65.000000          76.3               8    False      8             0   \n",
       "1     65.000000          76.3               8    False      8             0   \n",
       "2     65.000000          76.3               8    False      8             0   \n",
       "3     65.000000          76.3               8    False      8             0   \n",
       "4     65.000000          76.3               8    False      8             0   \n",
       "..          ...           ...             ...      ...    ...           ...   \n",
       "449   52.235294          50.0               0    False      4             0   \n",
       "450   52.235294          45.0               7     True      4             0   \n",
       "451   52.235294          48.0              10    False      4             0   \n",
       "452   68.000000          48.0               0    False      5             0   \n",
       "453   51.000000          45.0               3    False      5             0   \n",
       "\n",
       "     wind_dir_n  wind_dir_ne  wind_dir_no_wind  wind_dir_nw  wind_dir_s  \\\n",
       "0             0            0                 0            1           0   \n",
       "1             0            0                 0            1           0   \n",
       "2             0            0                 0            1           0   \n",
       "3             0            0                 0            1           0   \n",
       "4             0            0                 0            1           0   \n",
       "..          ...          ...               ...          ...         ...   \n",
       "449           0            0                 1            0           0   \n",
       "450           0            0                 0            0           0   \n",
       "451           0            0                 0            1           0   \n",
       "452           0            0                 1            0           0   \n",
       "453           0            0                 0            0           0   \n",
       "\n",
       "     wind_dir_se  wind_dir_sw  wind_dir_w  weather_hazy  \\\n",
       "0              0            0           0             0   \n",
       "1              0            0           0             0   \n",
       "2              0            0           0             0   \n",
       "3              0            0           0             0   \n",
       "4              0            0           0             0   \n",
       "..           ...          ...         ...           ...   \n",
       "449            0            0           0             0   \n",
       "450            0            0           0             0   \n",
       "451            0            0           0             0   \n",
       "452            0            0           0             0   \n",
       "453            0            0           0             0   \n",
       "\n",
       "     weather_no_weather_recorded  weather_overcast  weather_raining  \\\n",
       "0                              0                 0                0   \n",
       "1                              0                 0                0   \n",
       "2                              0                 0                0   \n",
       "3                              0                 0                0   \n",
       "4                              0                 0                0   \n",
       "..                           ...               ...              ...   \n",
       "449                            0                 0                0   \n",
       "450                            0                 1                0   \n",
       "451                            0                 0                0   \n",
       "452                            0                 0                0   \n",
       "453                            0                 0                0   \n",
       "\n",
       "     weather_sunny  weather_windy  general_loc_alton bay  general_loc_birch  \\\n",
       "0                1              0                      0                  0   \n",
       "1                1              0                      0                  0   \n",
       "2                1              0                      0                  0   \n",
       "3                1              0                      0                  0   \n",
       "4                1              0                      0                  0   \n",
       "..             ...            ...                    ...                ...   \n",
       "449              1              0                      0                  0   \n",
       "450              0              0                      0                  0   \n",
       "451              1              0                      0                  0   \n",
       "452              1              0                      0                  0   \n",
       "453              1              0                      0                  0   \n",
       "\n",
       "     general_loc_carr point  general_loc_diamond  general_loc_governors  \\\n",
       "0                         0                    0                      0   \n",
       "1                         0                    0                      0   \n",
       "2                         0                    0                      0   \n",
       "3                         0                    0                      0   \n",
       "4                         0                    1                      0   \n",
       "..                      ...                  ...                    ...   \n",
       "449                       0                    0                      0   \n",
       "450                       0                    0                      0   \n",
       "451                       0                    0                      0   \n",
       "452                       0                    0                      0   \n",
       "453                       0                    0                      0   \n",
       "\n",
       "     general_loc_harilla bay  general_loc_little bear bay  general_loc_lockes  \\\n",
       "0                          0                            0                   1   \n",
       "1                          0                            0                   1   \n",
       "2                          0                            0                   1   \n",
       "3                          0                            0                   1   \n",
       "4                          0                            0                   0   \n",
       "..                       ...                          ...                 ...   \n",
       "449                        1                            0                   0   \n",
       "450                        0                            0                   0   \n",
       "451                        1                            0                   0   \n",
       "452                        1                            0                   0   \n",
       "453                        0                            0                   0   \n",
       "\n",
       "     general_loc_long island  general_loc_rattlesnake  general_loc_sandy  \\\n",
       "0                          0                        0                  0   \n",
       "1                          0                        0                  0   \n",
       "2                          0                        0                  0   \n",
       "3                          0                        0                  0   \n",
       "4                          0                        0                  0   \n",
       "..                       ...                      ...                ...   \n",
       "449                        0                        0                  0   \n",
       "450                        0                        0                  0   \n",
       "451                        0                        0                  0   \n",
       "452                        0                        0                  0   \n",
       "453                        0                        0                  0   \n",
       "\n",
       "     general_loc_saunders bay  general_loc_spindle point  general_loc_timber  \\\n",
       "0                           0                          0                   0   \n",
       "1                           0                          0                   0   \n",
       "2                           0                          0                   0   \n",
       "3                           0                          0                   0   \n",
       "4                           0                          0                   0   \n",
       "..                        ...                        ...                 ...   \n",
       "449                         0                          0                   0   \n",
       "450                         0                          1                   0   \n",
       "451                         0                          0                   0   \n",
       "452                         0                          0                   0   \n",
       "453                         0                          0                   0   \n",
       "\n",
       "     general_loc_tip witches  general_loc_varney  general_loc_varney point  \\\n",
       "0                          0                   0                         0   \n",
       "1                          0                   0                         0   \n",
       "2                          0                   0                         0   \n",
       "3                          0                   0                         0   \n",
       "4                          0                   0                         0   \n",
       "..                       ...                 ...                       ...   \n",
       "449                        0                   0                         0   \n",
       "450                        0                   0                         0   \n",
       "451                        0                   0                         0   \n",
       "452                        0                   0                         0   \n",
       "453                        0                   0                         0   \n",
       "\n",
       "     general_loc_weirs marina  general_loc_welch  general_loc_witches  \\\n",
       "0                           0                  0                    0   \n",
       "1                           0                  0                    0   \n",
       "2                           0                  0                    0   \n",
       "3                           0                  0                    0   \n",
       "4                           0                  0                    0   \n",
       "..                        ...                ...                  ...   \n",
       "449                         0                  0                    0   \n",
       "450                         0                  0                    0   \n",
       "451                         0                  0                    0   \n",
       "452                         0                  0                    0   \n",
       "453                         0                  1                    0   \n",
       "\n",
       "     general_loc_wolfboro bay  \n",
       "0                           0  \n",
       "1                           0  \n",
       "2                           0  \n",
       "3                           0  \n",
       "4                           0  \n",
       "..                        ...  \n",
       "449                         0  \n",
       "450                         0  \n",
       "451                         0  \n",
       "452                         0  \n",
       "453                         0  \n",
       "\n",
       "[454 rows x 41 columns]"
      ]
     },
     "execution_count": 13,
     "metadata": {},
     "output_type": "execute_result"
    }
   ],
   "source": [
    "df1"
   ]
  },
  {
   "cell_type": "code",
   "execution_count": 14,
   "id": "5ab8102e-c361-414f-aa6e-02c0ed68e377",
   "metadata": {},
   "outputs": [
    {
     "data": {
      "text/plain": [
       "air_temp_f                     float64\n",
       "water_temp_f                   float64\n",
       "wind_speed_mph                   int64\n",
       "skunked                           bool\n",
       "month                            int64\n",
       "wind_dir_ene                     uint8\n",
       "wind_dir_n                       uint8\n",
       "wind_dir_ne                      uint8\n",
       "wind_dir_no_wind                 uint8\n",
       "wind_dir_nw                      uint8\n",
       "wind_dir_s                       uint8\n",
       "wind_dir_se                      uint8\n",
       "wind_dir_sw                      uint8\n",
       "wind_dir_w                       uint8\n",
       "weather_hazy                     uint8\n",
       "weather_no_weather_recorded      uint8\n",
       "weather_overcast                 uint8\n",
       "weather_raining                  uint8\n",
       "weather_sunny                    uint8\n",
       "weather_windy                    uint8\n",
       "general_loc_alton bay            uint8\n",
       "general_loc_birch                uint8\n",
       "general_loc_carr point           uint8\n",
       "general_loc_diamond              uint8\n",
       "general_loc_governors            uint8\n",
       "general_loc_harilla bay          uint8\n",
       "general_loc_little bear bay      uint8\n",
       "general_loc_lockes               uint8\n",
       "general_loc_long island          uint8\n",
       "general_loc_rattlesnake          uint8\n",
       "general_loc_sandy                uint8\n",
       "general_loc_saunders bay         uint8\n",
       "general_loc_spindle point        uint8\n",
       "general_loc_timber               uint8\n",
       "general_loc_tip witches          uint8\n",
       "general_loc_varney               uint8\n",
       "general_loc_varney point         uint8\n",
       "general_loc_weirs marina         uint8\n",
       "general_loc_welch                uint8\n",
       "general_loc_witches              uint8\n",
       "general_loc_wolfboro bay         uint8\n",
       "dtype: object"
      ]
     },
     "execution_count": 14,
     "metadata": {},
     "output_type": "execute_result"
    }
   ],
   "source": [
    "df1.dtypes"
   ]
  },
  {
   "cell_type": "markdown",
   "id": "acb51dd2-feec-4f2b-9302-96861b18f9be",
   "metadata": {},
   "source": [
    "### Modeling"
   ]
  },
  {
   "cell_type": "code",
   "execution_count": 15,
   "id": "24d4ef81-33ac-4541-8a1c-5ff3f61ec7f5",
   "metadata": {},
   "outputs": [],
   "source": [
    "df1['skunked'] = df1['skunked'].map({True: 1, False: 0})"
   ]
  },
  {
   "cell_type": "code",
   "execution_count": 16,
   "id": "3d21bddd-8074-4787-858e-0b3f871275fc",
   "metadata": {},
   "outputs": [],
   "source": [
    "X = df1.drop(columns = ['skunked'])\n",
    "y = df1['skunked']"
   ]
  },
  {
   "cell_type": "code",
   "execution_count": 17,
   "id": "d3022f43-a32d-414d-af8f-26ebd0915289",
   "metadata": {},
   "outputs": [],
   "source": [
    "# # Train, test, split\n",
    "# X_train, X_test, y_train, y_test = train_test_split(X,\n",
    "#                                                     y,\n",
    "#                                                     random_state = 42\n",
    "#                                                     )"
   ]
  },
  {
   "cell_type": "markdown",
   "id": "736d10aa-19b3-49e3-9364-917290335190",
   "metadata": {},
   "source": [
    "### Polynomial"
   ]
  },
  {
   "cell_type": "code",
   "execution_count": 18,
   "id": "bc19afe1-7d55-4302-8f9e-baf3a1705e94",
   "metadata": {},
   "outputs": [],
   "source": [
    "# Polynomial function to expand number of features\n",
    "poly = PolynomialFeatures(degree=2)\n",
    "X_poly = poly.fit_transform(X)"
   ]
  },
  {
   "cell_type": "code",
   "execution_count": 19,
   "id": "8da9c933-095d-4db5-b43f-362106fbac02",
   "metadata": {},
   "outputs": [
    {
     "data": {
      "text/plain": [
       "(454, 861)"
      ]
     },
     "execution_count": 19,
     "metadata": {},
     "output_type": "execute_result"
    }
   ],
   "source": [
    "X_poly.shape"
   ]
  },
  {
   "cell_type": "code",
   "execution_count": 20,
   "id": "8748a6cc-03be-4a0e-ac0b-968e9bcba52b",
   "metadata": {},
   "outputs": [],
   "source": [
    "# Train, test, split\n",
    "X_train, X_test, y_train, y_test = train_test_split(X_poly,\n",
    "                                                    y,\n",
    "                                                    random_state = 42\n",
    "                                                    )"
   ]
  },
  {
   "cell_type": "code",
   "execution_count": 21,
   "id": "afd51f31-85e0-46a8-86b8-76efd576ab8a",
   "metadata": {},
   "outputs": [
    {
     "data": {
      "text/plain": [
       "((340, 861), (340,))"
      ]
     },
     "execution_count": 21,
     "metadata": {},
     "output_type": "execute_result"
    }
   ],
   "source": [
    "X_train.shape, y_train.shape"
   ]
  },
  {
   "cell_type": "code",
   "execution_count": 22,
   "id": "8394020d-4d6b-4ae6-898b-177bdc63fac2",
   "metadata": {},
   "outputs": [],
   "source": [
    "# Scale data\n",
    "ss = StandardScaler()\n",
    "X_train_sc = ss.fit_transform(X_train)\n",
    "X_test_sc = ss.transform(X_test)"
   ]
  },
  {
   "cell_type": "code",
   "execution_count": 23,
   "id": "195738f7-179c-432a-864c-877f61d94f03",
   "metadata": {},
   "outputs": [
    {
     "data": {
      "text/plain": [
       "((340, 861), (340,))"
      ]
     },
     "execution_count": 23,
     "metadata": {},
     "output_type": "execute_result"
    }
   ],
   "source": [
    "X_train_sc.shape, y_train.shape"
   ]
  },
  {
   "cell_type": "markdown",
   "id": "10f4ca28-e217-41b3-8d34-3e6c8abad4c4",
   "metadata": {},
   "source": [
    "### PCA"
   ]
  },
  {
   "cell_type": "code",
   "execution_count": 24,
   "id": "6681c09a-1b91-4646-8764-05c238e7078f",
   "metadata": {},
   "outputs": [
    {
     "data": {
      "text/plain": [
       "(64, 861)"
      ]
     },
     "execution_count": 24,
     "metadata": {},
     "output_type": "execute_result"
    }
   ],
   "source": [
    "# PCA to identify most useful features\n",
    "pca = PCA(svd_solver='full', n_components=.95)\n",
    "pca.fit(X_train_sc)\n",
    "pca.components_.shape"
   ]
  },
  {
   "cell_type": "code",
   "execution_count": 25,
   "id": "9eb7f57b-c370-4581-9df9-e2df0dbca4aa",
   "metadata": {},
   "outputs": [
    {
     "name": "stdout",
     "output_type": "stream",
     "text": [
      "Explained variance (first 20 components): [0.05529074 0.04467314 0.03872163 0.03620825 0.03502189 0.03403115\n",
      " 0.02945911 0.02820071 0.02733092 0.02664188 0.02624088 0.02562343\n",
      " 0.02375926 0.02324446 0.02313644 0.02311366 0.02306579 0.02302209\n",
      " 0.02258021 0.02217878]\n"
     ]
    }
   ],
   "source": [
    "var_exp = pca.explained_variance_ratio_\n",
    "print(f'Explained variance (first 20 components): {var_exp[:20]}')"
   ]
  },
  {
   "cell_type": "code",
   "execution_count": 26,
   "id": "80b8c8e5-33fd-4449-893b-0bda8fbeb567",
   "metadata": {},
   "outputs": [],
   "source": [
    "Z_train = pca.transform(X_train_sc)\n",
    "Z_test = pca.transform(X_test_sc)"
   ]
  },
  {
   "cell_type": "code",
   "execution_count": 27,
   "id": "9e6a3fa2-3e89-41d3-a763-c554697a2647",
   "metadata": {},
   "outputs": [
    {
     "data": {
      "text/plain": [
       "(340, 64)"
      ]
     },
     "execution_count": 27,
     "metadata": {},
     "output_type": "execute_result"
    }
   ],
   "source": [
    "Z_train.shape"
   ]
  },
  {
   "cell_type": "code",
   "execution_count": 28,
   "id": "dc885a70-6f02-4d47-9d4c-3416ed2f51b0",
   "metadata": {},
   "outputs": [
    {
     "data": {
      "text/plain": [
       "0     19\n",
       "1     16\n",
       "2     14\n",
       "3     13\n",
       "4     12\n",
       "      ..\n",
       "59     1\n",
       "60     1\n",
       "61     1\n",
       "62     1\n",
       "63     1\n",
       "Length: 64, dtype: int64"
      ]
     },
     "execution_count": 28,
     "metadata": {},
     "output_type": "execute_result"
    }
   ],
   "source": [
    "pd.DataFrame(Z_train).var().map(round)"
   ]
  },
  {
   "cell_type": "code",
   "execution_count": 29,
   "id": "43760839-5018-4430-b670-9cb28c0e8cdb",
   "metadata": {},
   "outputs": [
    {
     "data": {
      "text/plain": [
       "0.9506841261449865"
      ]
     },
     "execution_count": 29,
     "metadata": {},
     "output_type": "execute_result"
    }
   ],
   "source": [
    "var_exp = pca.explained_variance_ratio_\n",
    "var_exp.sum()"
   ]
  },
  {
   "cell_type": "markdown",
   "id": "889a2a10-7630-4b2f-b3e9-827845cb8521",
   "metadata": {},
   "source": [
    "### AdaBoost - BEST SO FAR"
   ]
  },
  {
   "cell_type": "code",
   "execution_count": 30,
   "id": "fee68ca0-0ab6-4dc1-9709-1e035f2a7da1",
   "metadata": {},
   "outputs": [
    {
     "data": {
      "text/plain": [
       "AdaBoostClassifier(base_estimator=RandomForestClassifier(max_depth=13,\n",
       "                                                         max_features=5,\n",
       "                                                         n_estimators=20,\n",
       "                                                         random_state=42))"
      ]
     },
     "execution_count": 30,
     "metadata": {},
     "output_type": "execute_result"
    }
   ],
   "source": [
    "# Adaboost with Random Forest\n",
    "ada = AdaBoostClassifier(base_estimator=RandomForestClassifier(n_estimators=20, max_depth=13, max_features=5, min_samples_split=2, random_state=42)\n",
    "                             )\n",
    "ada.fit(Z_train, y_train)"
   ]
  },
  {
   "cell_type": "code",
   "execution_count": 31,
   "id": "ee0dfaa4-8dba-4db7-a96c-aba0088b0d11",
   "metadata": {},
   "outputs": [
    {
     "data": {
      "text/plain": [
       "(1.0, 0.8771929824561403)"
      ]
     },
     "execution_count": 31,
     "metadata": {},
     "output_type": "execute_result"
    }
   ],
   "source": [
    "ada.score(Z_train, y_train), ada.score(Z_test, y_test)"
   ]
  },
  {
   "cell_type": "code",
   "execution_count": 32,
   "id": "c7cc4a44-4c22-4c90-8d1f-00595e616b8b",
   "metadata": {},
   "outputs": [
    {
     "data": {
      "text/plain": [
       "array([0, 0, 0, 0, 0, 0, 0, 0, 0, 0])"
      ]
     },
     "execution_count": 32,
     "metadata": {},
     "output_type": "execute_result"
    }
   ],
   "source": [
    "preds = ada.predict(Z_test)\n",
    "preds[:10]"
   ]
  },
  {
   "cell_type": "code",
   "execution_count": 33,
   "id": "a1887cd3-84a4-42c9-ad46-7ef3f3fd4552",
   "metadata": {},
   "outputs": [
    {
     "name": "stdout",
     "output_type": "stream",
     "text": [
      "              precision    recall  f1-score   support\n",
      "\n",
      "           0       0.89      0.98      0.93        99\n",
      "           1       0.60      0.20      0.30        15\n",
      "\n",
      "    accuracy                           0.88       114\n",
      "   macro avg       0.74      0.59      0.62       114\n",
      "weighted avg       0.85      0.88      0.85       114\n",
      "\n"
     ]
    }
   ],
   "source": [
    "from sklearn.metrics import plot_confusion_matrix, confusion_matrix, ConfusionMatrixDisplay, RocCurveDisplay\n",
    "import sklearn.metrics as metrics\n",
    "from sklearn.metrics import classification_report\n",
    "\n",
    "print(classification_report(y_test, preds))"
   ]
  },
  {
   "cell_type": "code",
   "execution_count": 34,
   "id": "4722e59b-798d-4bec-8783-2c00a4a1f899",
   "metadata": {},
   "outputs": [
    {
     "data": {
      "image/png": "[encoded data removed]",
      "text/plain": [
       "<Figure size 432x288 with 2 Axes>"
      ]
     },
     "metadata": {
      "needs_background": "light"
     },
     "output_type": "display_data"
    }
   ],
   "source": [
    "plot_confusion_matrix(ada, Z_test, y_test, cmap='terrain')\n",
    "plt.title('Confusion Matrix', fontdict = {'fontsize':12});"
   ]
  },
  {
   "cell_type": "code",
   "execution_count": 35,
   "id": "d58325dd-d99a-45d7-a32a-64e4d10ec3da",
   "metadata": {},
   "outputs": [
    {
     "name": "stdout",
     "output_type": "stream",
     "text": [
      "Accuracy score is: 0.8771929824561403\n",
      "Precision score is: 0.6\n",
      "Recall score is: 0.2\n",
      "Specificity score is: 0.97\n"
     ]
    }
   ],
   "source": [
    "tn, tp, fn, fp = confusion_matrix(y_test, preds).ravel()\n",
    "\n",
    "metrics.accuracy_score(y_test, preds)\n",
    "print(f'Accuracy score is: {metrics.accuracy_score(y_test, preds)}'),\n",
    "print(f'Precision score is: {metrics.precision_score(y_test, preds)}'),\n",
    "print(f'Recall score is: {metrics.recall_score(y_test, preds)}'),\n",
    "print(f'Specificity score is: {tn / (tn + fp)}')"
   ]
  },
  {
   "cell_type": "markdown",
   "id": "aabf8268-5689-4ff0-90b5-117b8d5167f0",
   "metadata": {},
   "source": [
    "### LogReg - Z_train"
   ]
  },
  {
   "cell_type": "code",
   "execution_count": 36,
   "id": "3b629714-c006-41a6-9b22-89944775a77c",
   "metadata": {},
   "outputs": [
    {
     "data": {
      "text/plain": [
       "LogisticRegression(max_iter=1000, solver='liblinear')"
      ]
     },
     "execution_count": 36,
     "metadata": {},
     "output_type": "execute_result"
    }
   ],
   "source": [
    "lr = LogisticRegression(max_iter=1000, solver='liblinear')\n",
    "\n",
    "lr.fit(Z_train, y_train)"
   ]
  },
  {
   "cell_type": "code",
   "execution_count": 37,
   "id": "3b3fc1e5-6204-43d2-8e49-328f188216cb",
   "metadata": {},
   "outputs": [
    {
     "data": {
      "text/plain": [
       "('Test CV: 0.7723320158102768', 'Train CV: 0.7999999999999999')"
      ]
     },
     "execution_count": 37,
     "metadata": {},
     "output_type": "execute_result"
    }
   ],
   "source": [
    "f'Test CV: {cross_val_score(lr, Z_test, y_test).mean()}', f'Train CV: {cross_val_score(lr, Z_train, y_train).mean()}'"
   ]
  },
  {
   "cell_type": "code",
   "execution_count": 38,
   "id": "259c75e0-278e-4cf4-a79c-ba0970f9f211",
   "metadata": {},
   "outputs": [
    {
     "data": {
      "image/png": "[encoded data removed]",
      "text/plain": [
       "<Figure size 432x288 with 2 Axes>"
      ]
     },
     "metadata": {
      "needs_background": "light"
     },
     "output_type": "display_data"
    }
   ],
   "source": [
    "plot_confusion_matrix(lr, Z_test, y_test, display_labels = ['Skunked', 'Not Skunked']);"
   ]
  },
  {
   "cell_type": "code",
   "execution_count": null,
   "id": "3cfc753c-db2f-4f75-b85b-a4c5d80d51fa",
   "metadata": {},
   "outputs": [],
   "source": []
  },
  {
   "cell_type": "markdown",
   "id": "66bb565e-2d06-4147-b367-5bc8a212c91d",
   "metadata": {},
   "source": [
    "## LogReg"
   ]
  },
  {
   "cell_type": "code",
   "execution_count": 39,
   "id": "0b192200-6735-4a9d-8288-e7382e41eab8",
   "metadata": {},
   "outputs": [
    {
     "data": {
      "text/plain": [
       "LogisticRegression(max_iter=1000, solver='liblinear')"
      ]
     },
     "execution_count": 39,
     "metadata": {},
     "output_type": "execute_result"
    }
   ],
   "source": [
    "lr = LogisticRegression(max_iter=1000, solver='liblinear')\n",
    "\n",
    "lr.fit(X_train, y_train)"
   ]
  },
  {
   "cell_type": "code",
   "execution_count": 40,
   "id": "98d19385-64fa-4615-8b80-14cb8c8380d0",
   "metadata": {},
   "outputs": [
    {
     "data": {
      "text/plain": [
       "array([0, 0, 0, 0, 0, 0, 0, 0, 0, 1, 0, 0, 0, 0, 0, 0, 0, 1, 0, 0, 0, 0,\n",
       "       1, 0, 1, 0, 0, 1, 0, 1, 0, 0, 0, 0, 0, 0, 0, 0, 0, 0, 0, 0, 0, 0,\n",
       "       0, 0, 0, 0, 0, 1, 0, 0, 0, 1, 0, 1, 0, 0, 0, 1, 0, 0, 0, 0, 0, 0,\n",
       "       0, 0, 0, 0, 0, 0, 1, 0, 1, 0, 0, 0, 1, 0, 1, 0, 0, 0, 0, 0, 0, 0,\n",
       "       0, 0, 0, 0, 1, 0, 0, 0, 1, 0, 0, 0, 0, 0, 0, 0, 0, 0, 0, 0, 0, 0,\n",
       "       0, 0, 0, 0])"
      ]
     },
     "execution_count": 40,
     "metadata": {},
     "output_type": "execute_result"
    }
   ],
   "source": [
    "lr.predict(X_test)"
   ]
  },
  {
   "cell_type": "code",
   "execution_count": 41,
   "id": "f08dc087-f941-47a0-b990-28a3a8e57f67",
   "metadata": {},
   "outputs": [
    {
     "data": {
      "text/plain": [
       "array([9.93417604e-04, 9.31745643e-04, 1.77410257e-01, 3.18342164e-01,\n",
       "       6.05052791e-05, 7.31419470e-04, 3.20428363e-01, 1.28768605e-01,\n",
       "       3.14878001e-05, 9.92655563e-01, 1.07745852e-01, 3.65670065e-01,\n",
       "       4.10615182e-02, 2.19204922e-02, 3.21059515e-02, 2.45826031e-04,\n",
       "       3.62271008e-02, 8.62956993e-01, 9.49838001e-05, 1.33669016e-02,\n",
       "       4.98511696e-03, 2.50000772e-02, 9.98914230e-01, 7.77068109e-06,\n",
       "       6.30388037e-01, 6.71054760e-02, 4.98511696e-03, 9.07490446e-01,\n",
       "       3.28280183e-09, 9.64359826e-01, 7.08700680e-04, 2.12956087e-01,\n",
       "       1.69320197e-01, 3.11151872e-05, 1.26793536e-01, 4.98511696e-03,\n",
       "       1.35691934e-02, 3.18342164e-01, 4.28511702e-03, 4.98511696e-03,\n",
       "       1.06631400e-01, 3.11217608e-02, 3.30002189e-01, 4.98511696e-03,\n",
       "       6.05052791e-05, 4.98511696e-03, 1.57880567e-02, 4.69471285e-01,\n",
       "       3.18342164e-01, 9.99993554e-01, 2.31776774e-01, 9.15076295e-04,\n",
       "       2.12956087e-01, 8.63991713e-01, 1.13915870e-02, 9.64359826e-01,\n",
       "       4.05793189e-02, 1.55294615e-01, 2.41338046e-02, 8.19459518e-01,\n",
       "       9.50441350e-04, 2.43823283e-02, 5.20151083e-10, 3.00662589e-02,\n",
       "       1.59560959e-02, 5.07156857e-04, 1.61283740e-02, 2.59092070e-01,\n",
       "       9.93417604e-04, 9.62376523e-04, 3.91590475e-03, 2.80759630e-03,\n",
       "       9.35151434e-01, 3.96059203e-02, 9.25858928e-01, 3.30002189e-01,\n",
       "       1.76707478e-01, 1.99639976e-02, 9.99999451e-01, 7.77068109e-06,\n",
       "       9.99897849e-01, 3.07362411e-05, 3.85221057e-02, 5.05059516e-02,\n",
       "       2.31523166e-03, 4.60269724e-02, 1.80265767e-02, 4.10615182e-02,\n",
       "       2.56694689e-02, 5.07156857e-04, 6.05052791e-05, 2.11786241e-16,\n",
       "       5.66992719e-01, 1.84850046e-04, 1.42465689e-02, 7.31419470e-04,\n",
       "       9.92655563e-01, 8.86628596e-02, 3.38518828e-01, 4.28511702e-03,\n",
       "       5.81261477e-02, 1.59560959e-02, 2.56694689e-02, 2.12956087e-01,\n",
       "       4.13096610e-01, 3.91590475e-03, 2.62091175e-02, 2.06431595e-02,\n",
       "       1.28768605e-01, 2.46562033e-02, 2.71474738e-04, 2.31523166e-03,\n",
       "       2.06431595e-02, 2.50000772e-02])"
      ]
     },
     "execution_count": 41,
     "metadata": {},
     "output_type": "execute_result"
    }
   ],
   "source": [
    "lr.predict_proba(X_test)[:, 1]"
   ]
  },
  {
   "cell_type": "code",
   "execution_count": 42,
   "id": "0b43b81b-e91f-40b1-acd8-ef965748ddab",
   "metadata": {},
   "outputs": [
    {
     "data": {
      "text/plain": [
       "('Test CV: 0.8770750988142291', 'Train CV: 0.8147058823529412')"
      ]
     },
     "execution_count": 42,
     "metadata": {},
     "output_type": "execute_result"
    }
   ],
   "source": [
    "f'Test CV: {cross_val_score(lr, X_test, y_test).mean()}', f'Train CV: {cross_val_score(lr, X_train, y_train).mean()}'"
   ]
  },
  {
   "cell_type": "code",
   "execution_count": 43,
   "id": "4c2a4cb4-a4ee-4452-a85b-6370b7e8fffa",
   "metadata": {},
   "outputs": [
    {
     "data": {
      "text/plain": [
       "0.9382352941176471"
      ]
     },
     "execution_count": 43,
     "metadata": {},
     "output_type": "execute_result"
    }
   ],
   "source": [
    "lr.score(X_train, y_train)"
   ]
  },
  {
   "cell_type": "code",
   "execution_count": 44,
   "id": "e8441854-e318-4505-b9d4-675f6f525976",
   "metadata": {},
   "outputs": [
    {
     "data": {
      "image/png": "[encoded data removed]",
      "text/plain": [
       "<Figure size 432x288 with 2 Axes>"
      ]
     },
     "metadata": {
      "needs_background": "light"
     },
     "output_type": "display_data"
    }
   ],
   "source": [
    "plot_confusion_matrix(lr, X_test, y_test, display_labels = ['Skunked', 'Not Skunked']);"
   ]
  },
  {
   "cell_type": "code",
   "execution_count": 45,
   "id": "7396c280-feaf-46a7-984b-80812eb1cc65",
   "metadata": {},
   "outputs": [
    {
     "data": {
      "text/plain": [
       "month                         -0.170717\n",
       "water_temp_f                  -0.145319\n",
       "general_loc_diamond           -0.085083\n",
       "weather_hazy                  -0.074618\n",
       "wind_dir_se                   -0.068473\n",
       "weather_raining               -0.067846\n",
       "weather_no_weather_recorded   -0.062877\n",
       "general_loc_sandy             -0.059700\n",
       "weather_windy                 -0.057664\n",
       "air_temp_f                    -0.047193\n",
       "general_loc_wolfboro bay      -0.035116\n",
       "weather_sunny                 -0.030681\n",
       "general_loc_varney            -0.028640\n",
       "general_loc_birch             -0.028640\n",
       "general_loc_carr point        -0.028640\n",
       "general_loc_weirs marina      -0.028640\n",
       "wind_dir_sw                   -0.026374\n",
       "general_loc_witches           -0.025328\n",
       "general_loc_tip witches       -0.020229\n",
       "wind_dir_ene                  -0.020229\n",
       "general_loc_long island       -0.020229\n",
       "wind_dir_nw                   -0.018827\n",
       "general_loc_lockes            -0.014953\n",
       "general_loc_harilla bay       -0.014138\n",
       "wind_speed_mph                -0.010868\n",
       "wind_dir_w                     0.004736\n",
       "general_loc_rattlesnake        0.024299\n",
       "wind_dir_s                     0.025775\n",
       "wind_dir_no_wind               0.026023\n",
       "general_loc_alton bay          0.035160\n",
       "general_loc_little bear bay    0.035160\n",
       "general_loc_timber             0.039732\n",
       "wind_dir_ne                    0.040866\n",
       "general_loc_saunders bay       0.042847\n",
       "general_loc_governors          0.044556\n",
       "general_loc_varney point       0.062928\n",
       "general_loc_welch              0.069635\n",
       "weather_overcast               0.087587\n",
       "general_loc_spindle point      0.109124\n",
       "wind_dir_n                     0.189427\n",
       "skunked                        1.000000\n",
       "Name: skunked, dtype: float64"
      ]
     },
     "execution_count": 45,
     "metadata": {},
     "output_type": "execute_result"
    }
   ],
   "source": [
    "df1.corr()['skunked'].sort_values()"
   ]
  },
  {
   "cell_type": "code",
   "execution_count": 46,
   "id": "871f1ba6-9d2d-490b-b946-6afea41637b2",
   "metadata": {},
   "outputs": [
    {
     "data": {
      "text/html": [
       "<div>\n",
       "<style scoped>\n",
       "    .dataframe tbody tr th:only-of-type {\n",
       "        vertical-align: middle;\n",
       "    }\n",
       "\n",
       "    .dataframe tbody tr th {\n",
       "        vertical-align: top;\n",
       "    }\n",
       "\n",
       "    .dataframe thead th {\n",
       "        text-align: right;\n",
       "    }\n",
       "</style>\n",
       "<table border=\"1\" class=\"dataframe\">\n",
       "  <thead>\n",
       "    <tr style=\"text-align: right;\">\n",
       "      <th></th>\n",
       "      <th>skunked</th>\n",
       "      <th>hour</th>\n",
       "      <th>water_depth_ft</th>\n",
       "      <th>duration_min</th>\n",
       "    </tr>\n",
       "  </thead>\n",
       "  <tbody>\n",
       "    <tr>\n",
       "      <th>0</th>\n",
       "      <td>False</td>\n",
       "      <td>6</td>\n",
       "      <td>20.0</td>\n",
       "      <td>160.0</td>\n",
       "    </tr>\n",
       "    <tr>\n",
       "      <th>1</th>\n",
       "      <td>False</td>\n",
       "      <td>7</td>\n",
       "      <td>20.0</td>\n",
       "      <td>160.0</td>\n",
       "    </tr>\n",
       "    <tr>\n",
       "      <th>2</th>\n",
       "      <td>False</td>\n",
       "      <td>7</td>\n",
       "      <td>20.0</td>\n",
       "      <td>160.0</td>\n",
       "    </tr>\n",
       "    <tr>\n",
       "      <th>3</th>\n",
       "      <td>False</td>\n",
       "      <td>8</td>\n",
       "      <td>37.0</td>\n",
       "      <td>160.0</td>\n",
       "    </tr>\n",
       "    <tr>\n",
       "      <th>4</th>\n",
       "      <td>False</td>\n",
       "      <td>7</td>\n",
       "      <td>43.0</td>\n",
       "      <td>195.0</td>\n",
       "    </tr>\n",
       "    <tr>\n",
       "      <th>...</th>\n",
       "      <td>...</td>\n",
       "      <td>...</td>\n",
       "      <td>...</td>\n",
       "      <td>...</td>\n",
       "    </tr>\n",
       "    <tr>\n",
       "      <th>449</th>\n",
       "      <td>False</td>\n",
       "      <td>15</td>\n",
       "      <td>10.0</td>\n",
       "      <td>240.0</td>\n",
       "    </tr>\n",
       "    <tr>\n",
       "      <th>450</th>\n",
       "      <td>True</td>\n",
       "      <td>0</td>\n",
       "      <td>0.0</td>\n",
       "      <td>135.0</td>\n",
       "    </tr>\n",
       "    <tr>\n",
       "      <th>451</th>\n",
       "      <td>False</td>\n",
       "      <td>12</td>\n",
       "      <td>10.0</td>\n",
       "      <td>240.0</td>\n",
       "    </tr>\n",
       "    <tr>\n",
       "      <th>452</th>\n",
       "      <td>False</td>\n",
       "      <td>12</td>\n",
       "      <td>15.0</td>\n",
       "      <td>210.0</td>\n",
       "    </tr>\n",
       "    <tr>\n",
       "      <th>453</th>\n",
       "      <td>False</td>\n",
       "      <td>12</td>\n",
       "      <td>15.0</td>\n",
       "      <td>150.0</td>\n",
       "    </tr>\n",
       "  </tbody>\n",
       "</table>\n",
       "<p>454 rows × 4 columns</p>\n",
       "</div>"
      ],
      "text/plain": [
       "     skunked  hour  water_depth_ft  duration_min\n",
       "0      False     6            20.0         160.0\n",
       "1      False     7            20.0         160.0\n",
       "2      False     7            20.0         160.0\n",
       "3      False     8            37.0         160.0\n",
       "4      False     7            43.0         195.0\n",
       "..       ...   ...             ...           ...\n",
       "449    False    15            10.0         240.0\n",
       "450     True     0             0.0         135.0\n",
       "451    False    12            10.0         240.0\n",
       "452    False    12            15.0         210.0\n",
       "453    False    12            15.0         150.0\n",
       "\n",
       "[454 rows x 4 columns]"
      ]
     },
     "execution_count": 46,
     "metadata": {},
     "output_type": "execute_result"
    }
   ],
   "source": [
    "df[['skunked', 'hour', 'water_depth_ft', 'duration_min']]"
   ]
  },
  {
   "cell_type": "markdown",
   "id": "51709d22-a529-4cf1-be87-bc8ca91d4b66",
   "metadata": {},
   "source": [
    "## Random Forest"
   ]
  },
  {
   "cell_type": "code",
   "execution_count": 47,
   "id": "47f996e1-f2ac-4854-918f-2fc2a85c2157",
   "metadata": {},
   "outputs": [
    {
     "name": "stdout",
     "output_type": "stream",
     "text": [
      "0.8411764705882353\n"
     ]
    },
    {
     "data": {
      "text/plain": [
       "({'max_depth': 7,\n",
       "  'max_features': 5,\n",
       "  'min_samples_split': 2,\n",
       "  'n_estimators': 33},)"
      ]
     },
     "execution_count": 47,
     "metadata": {},
     "output_type": "execute_result"
    }
   ],
   "source": [
    "rf = RandomForestClassifier()\n",
    "# X_train, X_test_gs, y_train, y_test_gs = train_test_split(X,y, test_size = .1, random_state = 33)\n",
    "params = {\n",
    "    'max_depth': [7,11,12,13],\n",
    "    'max_features': [5,6,7,8],\n",
    "    'min_samples_split': [2,3,4, 7,9],\n",
    "    'n_estimators': [10,13,20,23,26,30,33] \n",
    "    }\n",
    "\n",
    "gs = GridSearchCV(RandomForestClassifier(random_state=42), param_grid=params, verbose=0)\n",
    "gs.fit(Z_train, y_train)\n",
    "print(gs.best_score_)\n",
    "gs.best_params_, \n",
    "# gs.score(X_test, y_test), gs.score(X_train, y_train)"
   ]
  },
  {
   "cell_type": "code",
   "execution_count": 48,
   "id": "9e7d3bbe-dfbe-4fb8-955c-dc7309e59d2f",
   "metadata": {},
   "outputs": [
    {
     "data": {
      "text/plain": [
       "('Test CV: 0.8770750988142291', 'Train CV: 0.838235294117647')"
      ]
     },
     "execution_count": 48,
     "metadata": {},
     "output_type": "execute_result"
    }
   ],
   "source": [
    "f'Test CV: {cross_val_score(gs, X_test, y_test).mean()}', f'Train CV: {cross_val_score(gs, X_train, y_train).mean()}'"
   ]
  },
  {
   "cell_type": "code",
   "execution_count": 49,
   "id": "25bd7188-6702-49c4-b737-5f3b1a00980c",
   "metadata": {},
   "outputs": [],
   "source": [
    "# plot_confusion_matrix(stack, X_test, y_test, display_labels = ['Skunked', 'Not Skunked']);"
   ]
  },
  {
   "cell_type": "markdown",
   "id": "a22c9638-4daa-4fa4-ab16-b2fe26828c5b",
   "metadata": {},
   "source": [
    "## Stacking"
   ]
  },
  {
   "cell_type": "code",
   "execution_count": 50,
   "id": "66b52c94-78ef-4f48-8f4d-1d438b6d32e1",
   "metadata": {},
   "outputs": [],
   "source": [
    "estimators = [('rf', RandomForestClassifier(n_estimators=20, max_depth=13, max_features=5, min_samples_split=2, random_state=42)),\n",
    "              ('knn', make_pipeline(StandardScaler(),KNeighborsClassifier())),\n",
    "             ('bag', BaggingClassifier()),\n",
    "             ('ridge', make_pipeline(StandardScaler(),RidgeClassifier()))]\n",
    "\n",
    "stack = StackingClassifier(estimators=estimators, final_estimator = LogisticRegression())"
   ]
  },
  {
   "cell_type": "code",
   "execution_count": 51,
   "id": "721da949-fc3a-470e-856e-d0fc784b04f2",
   "metadata": {},
   "outputs": [
    {
     "data": {
      "text/plain": [
       "(0.9205882352941176, 0.8859649122807017, 0.8323529411764706)"
      ]
     },
     "execution_count": 51,
     "metadata": {},
     "output_type": "execute_result"
    }
   ],
   "source": [
    "stack.fit(X_train, y_train)\n",
    "stack.score(X_train, y_train), stack.score(X_test, y_test), cross_val_score(stack, X_train, y_train).mean()"
   ]
  },
  {
   "cell_type": "code",
   "execution_count": 52,
   "id": "c3465a86-ce4b-41e7-87bb-b6af18001044",
   "metadata": {},
   "outputs": [
    {
     "data": {
      "image/png": "[encoded data removed]",
      "text/plain": [
       "<Figure size 432x288 with 2 Axes>"
      ]
     },
     "metadata": {
      "needs_background": "light"
     },
     "output_type": "display_data"
    }
   ],
   "source": [
    "plot_confusion_matrix(stack, X_test, y_test, display_labels = ['Skunked', 'Not Skunked']);"
   ]
  },
  {
   "cell_type": "code",
   "execution_count": null,
   "id": "7f75cf57-3c0d-414a-90b7-cc4912c23619",
   "metadata": {},
   "outputs": [],
   "source": []
  },
  {
   "cell_type": "code",
   "execution_count": null,
   "id": "93e193c4-9da2-461f-abde-cef1dc836139",
   "metadata": {},
   "outputs": [],
   "source": []
  },
  {
   "cell_type": "code",
   "execution_count": null,
   "id": "3b5abe70-9045-4165-bf21-4ca2d362b445",
   "metadata": {},
   "outputs": [],
   "source": []
  },
  {
   "cell_type": "code",
   "execution_count": 53,
   "id": "fbe66d4f-6644-43a6-a84a-a0325b73baa0",
   "metadata": {},
   "outputs": [
    {
     "data": {
      "text/plain": [
       "0    0.843612\n",
       "1    0.156388\n",
       "Name: skunked, dtype: float64"
      ]
     },
     "execution_count": 53,
     "metadata": {},
     "output_type": "execute_result"
    }
   ],
   "source": [
    "# Baseline\n",
    "y.value_counts(normalize=True)"
   ]
  },
  {
   "cell_type": "code",
   "execution_count": null,
   "id": "1c8c4d70-95ee-43ae-be02-0a4d4537accc",
   "metadata": {},
   "outputs": [],
   "source": []
  }
 ],
 "metadata": {
  "kernelspec": {
   "display_name": "Python 3 (ipykernel)",
   "language": "python",
   "name": "python3"
  },
  "language_info": {
   "codemirror_mode": {
    "name": "ipython",
    "version": 3
   },
   "file_extension": ".py",
   "mimetype": "text/x-python",
   "name": "python",
   "nbconvert_exporter": "python",
   "pygments_lexer": "ipython3",
   "version": "3.9.7"
  }
 },
 "nbformat": 4,
 "nbformat_minor": 5
}
